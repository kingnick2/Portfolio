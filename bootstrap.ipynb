{
 "cells": [
  {
   "cell_type": "markdown",
   "id": "9d2cf4ff",
   "metadata": {},
   "source": [
    "## Описание"
   ]
  },
  {
   "cell_type": "markdown",
   "id": "85226a80",
   "metadata": {},
   "source": [
    "В данной работе представлена таблица, где числовая переменная – непрерывная. \n",
    "Задача – сравнить группы двумя способами: бутстрапом и u-тестом\n",
    "\n",
    "Сравним результат между тестом и контролем по двум кейсам:\n",
    "\n",
    "Применим бутстрап (с np.mean) и критерий mann-whitney, а потом сравните p-value\n",
    "\n",
    "Применим бутстрап (с np.median) и критерий mann-whitney, а потом сравните p-value."
   ]
  },
  {
   "cell_type": "code",
   "execution_count": 19,
   "id": "a5caf1b1",
   "metadata": {},
   "outputs": [],
   "source": [
    "# Импорт библиотек\n",
    "import pandas as pd\n",
    "import numpy as np\n",
    "import seaborn as sns\n",
    "\n",
    "import matplotlib.pyplot as plt\n",
    "import matplotlib.mlab as mlab\n",
    "import matplotlib\n",
    "plt.style.use('ggplot')\n",
    "from matplotlib.pyplot import figure\n",
    "from scipy.stats import norm, mannwhitneyu\n",
    "from tqdm.auto import tqdm\n",
    "\n",
    "\n",
    "import warnings\n",
    "warnings.filterwarnings(\"ignore\")\n",
    "\n",
    "%matplotlib inline\n",
    "matplotlib.rcParams['figure.figsize'] = (4,3)\n",
    "\n",
    "pd.options.mode.chained_assignment = None"
   ]
  },
  {
   "cell_type": "code",
   "execution_count": 8,
   "id": "84a12dce",
   "metadata": {},
   "outputs": [
    {
     "data": {
      "text/html": [
       "<div>\n",
       "<style scoped>\n",
       "    .dataframe tbody tr th:only-of-type {\n",
       "        vertical-align: middle;\n",
       "    }\n",
       "\n",
       "    .dataframe tbody tr th {\n",
       "        vertical-align: top;\n",
       "    }\n",
       "\n",
       "    .dataframe thead th {\n",
       "        text-align: right;\n",
       "    }\n",
       "</style>\n",
       "<table border=\"1\" class=\"dataframe\">\n",
       "  <thead>\n",
       "    <tr style=\"text-align: right;\">\n",
       "      <th></th>\n",
       "      <th>Unnamed: 0</th>\n",
       "      <th>value</th>\n",
       "      <th>experimentVariant</th>\n",
       "    </tr>\n",
       "  </thead>\n",
       "  <tbody>\n",
       "    <tr>\n",
       "      <th>0</th>\n",
       "      <td>1</td>\n",
       "      <td>10,3804953740268</td>\n",
       "      <td>Control</td>\n",
       "    </tr>\n",
       "    <tr>\n",
       "      <th>1</th>\n",
       "      <td>2</td>\n",
       "      <td>9,54686666784264</td>\n",
       "      <td>Control</td>\n",
       "    </tr>\n",
       "    <tr>\n",
       "      <th>2</th>\n",
       "      <td>3</td>\n",
       "      <td>11,0882146509904</td>\n",
       "      <td>Control</td>\n",
       "    </tr>\n",
       "  </tbody>\n",
       "</table>\n",
       "</div>"
      ],
      "text/plain": [
       "   Unnamed: 0             value experimentVariant\n",
       "0           1  10,3804953740268           Control\n",
       "1           2  9,54686666784264           Control\n",
       "2           3  11,0882146509904           Control"
      ]
     },
     "execution_count": 8,
     "metadata": {},
     "output_type": "execute_result"
    }
   ],
   "source": [
    "# Считывание файла с информацией\n",
    "df = pd.read_csv('data/bootstrap.csv', sep=\";\")\n",
    "df.head(3)"
   ]
  },
  {
   "cell_type": "code",
   "execution_count": 9,
   "id": "91fc60b8",
   "metadata": {},
   "outputs": [
    {
     "data": {
      "text/html": [
       "<div>\n",
       "<style scoped>\n",
       "    .dataframe tbody tr th:only-of-type {\n",
       "        vertical-align: middle;\n",
       "    }\n",
       "\n",
       "    .dataframe tbody tr th {\n",
       "        vertical-align: top;\n",
       "    }\n",
       "\n",
       "    .dataframe thead th {\n",
       "        text-align: right;\n",
       "    }\n",
       "</style>\n",
       "<table border=\"1\" class=\"dataframe\">\n",
       "  <thead>\n",
       "    <tr style=\"text-align: right;\">\n",
       "      <th></th>\n",
       "      <th>value</th>\n",
       "      <th>experimentVariant</th>\n",
       "    </tr>\n",
       "  </thead>\n",
       "  <tbody>\n",
       "    <tr>\n",
       "      <th>0</th>\n",
       "      <td>10,3804953740268</td>\n",
       "      <td>Control</td>\n",
       "    </tr>\n",
       "    <tr>\n",
       "      <th>1</th>\n",
       "      <td>9,54686666784264</td>\n",
       "      <td>Control</td>\n",
       "    </tr>\n",
       "    <tr>\n",
       "      <th>2</th>\n",
       "      <td>11,0882146509904</td>\n",
       "      <td>Control</td>\n",
       "    </tr>\n",
       "    <tr>\n",
       "      <th>3</th>\n",
       "      <td>10,1472740570122</td>\n",
       "      <td>Control</td>\n",
       "    </tr>\n",
       "    <tr>\n",
       "      <th>4</th>\n",
       "      <td>9,78980767524929</td>\n",
       "      <td>Control</td>\n",
       "    </tr>\n",
       "  </tbody>\n",
       "</table>\n",
       "</div>"
      ],
      "text/plain": [
       "              value experimentVariant\n",
       "0  10,3804953740268           Control\n",
       "1  9,54686666784264           Control\n",
       "2  11,0882146509904           Control\n",
       "3  10,1472740570122           Control\n",
       "4  9,78980767524929           Control"
      ]
     },
     "execution_count": 9,
     "metadata": {},
     "output_type": "execute_result"
    }
   ],
   "source": [
    "df = df.drop(columns=df.columns[0])\n",
    "df.head()"
   ]
  },
  {
   "cell_type": "code",
   "execution_count": 10,
   "id": "fe7fe918",
   "metadata": {},
   "outputs": [
    {
     "data": {
      "text/plain": [
       "value                object\n",
       "experimentVariant    object\n",
       "dtype: object"
      ]
     },
     "execution_count": 10,
     "metadata": {},
     "output_type": "execute_result"
    }
   ],
   "source": [
    "df.dtypes"
   ]
  },
  {
   "cell_type": "code",
   "execution_count": 11,
   "id": "23985d21",
   "metadata": {},
   "outputs": [
    {
     "data": {
      "text/html": [
       "<div>\n",
       "<style scoped>\n",
       "    .dataframe tbody tr th:only-of-type {\n",
       "        vertical-align: middle;\n",
       "    }\n",
       "\n",
       "    .dataframe tbody tr th {\n",
       "        vertical-align: top;\n",
       "    }\n",
       "\n",
       "    .dataframe thead th {\n",
       "        text-align: right;\n",
       "    }\n",
       "</style>\n",
       "<table border=\"1\" class=\"dataframe\">\n",
       "  <thead>\n",
       "    <tr style=\"text-align: right;\">\n",
       "      <th></th>\n",
       "      <th>value</th>\n",
       "      <th>experimentVariant</th>\n",
       "    </tr>\n",
       "  </thead>\n",
       "  <tbody>\n",
       "    <tr>\n",
       "      <th>0</th>\n",
       "      <td>10.380495</td>\n",
       "      <td>Control</td>\n",
       "    </tr>\n",
       "    <tr>\n",
       "      <th>1</th>\n",
       "      <td>9.546867</td>\n",
       "      <td>Control</td>\n",
       "    </tr>\n",
       "    <tr>\n",
       "      <th>2</th>\n",
       "      <td>11.088215</td>\n",
       "      <td>Control</td>\n",
       "    </tr>\n",
       "    <tr>\n",
       "      <th>3</th>\n",
       "      <td>10.147274</td>\n",
       "      <td>Control</td>\n",
       "    </tr>\n",
       "    <tr>\n",
       "      <th>4</th>\n",
       "      <td>9.789808</td>\n",
       "      <td>Control</td>\n",
       "    </tr>\n",
       "  </tbody>\n",
       "</table>\n",
       "</div>"
      ],
      "text/plain": [
       "       value experimentVariant\n",
       "0  10.380495           Control\n",
       "1   9.546867           Control\n",
       "2  11.088215           Control\n",
       "3  10.147274           Control\n",
       "4   9.789808           Control"
      ]
     },
     "execution_count": 11,
     "metadata": {},
     "output_type": "execute_result"
    }
   ],
   "source": [
    "df['value'] = df['value'].str.replace(',', '.').astype('float')\n",
    "df.head()"
   ]
  },
  {
   "cell_type": "code",
   "execution_count": 12,
   "id": "2ad0e2c3",
   "metadata": {},
   "outputs": [
    {
     "data": {
      "text/plain": [
       "value                float64\n",
       "experimentVariant     object\n",
       "dtype: object"
      ]
     },
     "execution_count": 12,
     "metadata": {},
     "output_type": "execute_result"
    }
   ],
   "source": [
    "df.dtypes"
   ]
  },
  {
   "cell_type": "code",
   "execution_count": 13,
   "id": "aac1e565",
   "metadata": {},
   "outputs": [
    {
     "data": {
      "text/plain": [
       "0      10.380495\n",
       "1       9.546867\n",
       "2      11.088215\n",
       "3      10.147274\n",
       "4       9.789808\n",
       "         ...    \n",
       "495    10.973929\n",
       "496    10.261074\n",
       "497     8.780090\n",
       "498    11.169078\n",
       "499    11.499566\n",
       "Name: value, Length: 500, dtype: float64"
      ]
     },
     "execution_count": 13,
     "metadata": {},
     "output_type": "execute_result"
    }
   ],
   "source": [
    "df_control = df.query('experimentVariant == \"Control\"').reset_index(drop=True)['value']\n",
    "df_control"
   ]
  },
  {
   "cell_type": "code",
   "execution_count": 14,
   "id": "8eee18da",
   "metadata": {},
   "outputs": [
    {
     "data": {
      "image/png": "[encoded data removed]",
      "text/plain": [
       "<Figure size 400x300 with 1 Axes>"
      ]
     },
     "metadata": {},
     "output_type": "display_data"
    }
   ],
   "source": [
    "sns.distplot(df_control)\n",
    "sns.despine()"
   ]
  },
  {
   "cell_type": "markdown",
   "id": "298c3149",
   "metadata": {},
   "source": [
    "Распределение признака в контрольной группе нормальное."
   ]
  },
  {
   "cell_type": "code",
   "execution_count": 15,
   "id": "487c46ea",
   "metadata": {},
   "outputs": [
    {
     "data": {
      "text/plain": [
       "0    10.380495\n",
       "1     9.546867\n",
       "2    11.088215\n",
       "3    10.147274\n",
       "4     9.789808\n",
       "Name: value, dtype: float64"
      ]
     },
     "execution_count": 15,
     "metadata": {},
     "output_type": "execute_result"
    }
   ],
   "source": [
    "df_test = df.query('experimentVariant == \"Treatment\"').reset_index(drop=True)['value']\n",
    "df_test.head()"
   ]
  },
  {
   "cell_type": "code",
   "execution_count": 16,
   "id": "64b71a05",
   "metadata": {},
   "outputs": [
    {
     "data": {
      "image/png": "[encoded data removed]",
      "text/plain": [
       "<Figure size 400x300 with 1 Axes>"
      ]
     },
     "metadata": {},
     "output_type": "display_data"
    }
   ],
   "source": [
    "sns.distplot(df_test)\n",
    "sns.despine()"
   ]
  },
  {
   "cell_type": "markdown",
   "id": "ed1b154f",
   "metadata": {},
   "source": [
    "Распределение признака в тестовой группе не является нормальным, заметны выбросы."
   ]
  },
  {
   "cell_type": "markdown",
   "id": "ee87ec07",
   "metadata": {},
   "source": [
    "## Создадим функцию, которая поможет проверять гипотезы с помощью bootstrap"
   ]
  },
  {
   "cell_type": "code",
   "execution_count": 17,
   "id": "c0be9eaf",
   "metadata": {},
   "outputs": [],
   "source": [
    "def get_bootstrap(\n",
    "    data_column_1, # числовые значения первой выборки\n",
    "    data_column_2, # числовые значения второй выборки\n",
    "    boot_it = 1000, # количество бутстрэп-подвыборок\n",
    "    statistic = np.mean, # интересующая нас статистика\n",
    "    bootstrap_conf_level = 0.95 # уровень значимости\n",
    "):\n",
    "    \n",
    "    boot_len = max([len(data_column_1), len(data_column_2)])\n",
    "    boot_data = []\n",
    "    \n",
    "    for i in tqdm(range(boot_it)): # извлекаем подвыборки\n",
    "        \n",
    "        samples_1 = data_column_1.sample(\n",
    "            boot_len, \n",
    "            replace = True # параметр возвращения\n",
    "        ).values\n",
    "        \n",
    "        samples_2 = data_column_2.sample(\n",
    "            boot_len, \n",
    "            replace = True\n",
    "        ).values\n",
    "        \n",
    "        boot_data.append(statistic(samples_1-samples_2)) # применяем статистику\n",
    "        \n",
    "    pd_boot_data = pd.DataFrame(boot_data)\n",
    "        \n",
    "    left_quant = (1 - bootstrap_conf_level)/2\n",
    "    right_quant = 1 - (1 - bootstrap_conf_level) / 2\n",
    "    quants = pd_boot_data.quantile([left_quant, right_quant])\n",
    "        \n",
    "    p_1 = norm.cdf(\n",
    "        x = 0, \n",
    "        loc = np.mean(boot_data), \n",
    "        scale = np.std(boot_data)\n",
    "    )\n",
    "    p_2 = norm.cdf(\n",
    "        x = 0, \n",
    "        loc = -np.mean(boot_data), \n",
    "        scale = np.std(boot_data)\n",
    "    )\n",
    "    p_value = min(p_1, p_2) * 2\n",
    "        \n",
    "    # Визуализация\n",
    "    _, _, bars = plt.hist(pd_boot_data[0], bins = 50)\n",
    "    for bar in bars:\n",
    "        if abs(bar.get_x()) <= quants.iloc[0][0] or abs(bar.get_x()) >= quants.iloc[1][0]:\n",
    "            bar.set_facecolor('red')\n",
    "        else: \n",
    "            bar.set_facecolor('grey')\n",
    "            bar.set_edgecolor('black')\n",
    "    \n",
    "    plt.style.use('ggplot')\n",
    "    plt.vlines(quants,ymin=0,ymax=50,linestyle='--')\n",
    "    plt.xlabel('boot_data')\n",
    "    plt.ylabel('frequency')\n",
    "    plt.title(\"Histogram of boot_data\")\n",
    "    plt.show()\n",
    "       \n",
    "    return {\"boot_data\": boot_data, \n",
    "            \"quants\": quants, \n",
    "            \"p_value\": p_value}\n"
   ]
  },
  {
   "cell_type": "markdown",
   "id": "d735f7ef",
   "metadata": {},
   "source": [
    "## Сравниваем средние значения в тестовой и контрольной группах с помощью бутстрапа"
   ]
  },
  {
   "cell_type": "markdown",
   "id": "b0f82306",
   "metadata": {},
   "source": [
    "- H0: Средние значения в двух группах не различаются\n",
    "\n",
    "- H1: Средние значения различаются"
   ]
  },
  {
   "cell_type": "code",
   "execution_count": 20,
   "id": "66c02084",
   "metadata": {},
   "outputs": [
    {
     "data": {
      "application/vnd.jupyter.widget-view+json": {
       "model_id": "03854ae1a61b47e9a6aa3cb0c7efa4e0",
       "version_major": 2,
       "version_minor": 0
      },
      "text/plain": [
       "  0%|          | 0/1000 [00:00<?, ?it/s]"
      ]
     },
     "metadata": {},
     "output_type": "display_data"
    },
    {
     "data": {
      "image/png": "[encoded data removed]",
      "text/plain": [
       "<Figure size 400x300 with 1 Axes>"
      ]
     },
     "metadata": {},
     "output_type": "display_data"
    }
   ],
   "source": [
    "booted_data_means = get_bootstrap(\n",
    "                        df_control, \n",
    "                        df_test, \n",
    "                        boot_it = 1000, \n",
    "                        statistic = np.mean) # в результате хранится разница двух распределений, ДИ и p-value"
   ]
  },
  {
   "cell_type": "code",
   "execution_count": 21,
   "id": "65cc5c38",
   "metadata": {},
   "outputs": [
    {
     "data": {
      "text/plain": [
       "0.04096214655867331"
      ]
     },
     "execution_count": 21,
     "metadata": {},
     "output_type": "execute_result"
    }
   ],
   "source": [
    "booted_data_means[\"p_value\"]"
   ]
  },
  {
   "cell_type": "code",
   "execution_count": 22,
   "id": "b13bc42c",
   "metadata": {},
   "outputs": [
    {
     "data": {
      "text/html": [
       "<div>\n",
       "<style scoped>\n",
       "    .dataframe tbody tr th:only-of-type {\n",
       "        vertical-align: middle;\n",
       "    }\n",
       "\n",
       "    .dataframe tbody tr th {\n",
       "        vertical-align: top;\n",
       "    }\n",
       "\n",
       "    .dataframe thead th {\n",
       "        text-align: right;\n",
       "    }\n",
       "</style>\n",
       "<table border=\"1\" class=\"dataframe\">\n",
       "  <thead>\n",
       "    <tr style=\"text-align: right;\">\n",
       "      <th></th>\n",
       "      <th>0</th>\n",
       "    </tr>\n",
       "  </thead>\n",
       "  <tbody>\n",
       "    <tr>\n",
       "      <th>0.025</th>\n",
       "      <td>-35.984694</td>\n",
       "    </tr>\n",
       "    <tr>\n",
       "      <th>0.975</th>\n",
       "      <td>-2.944606</td>\n",
       "    </tr>\n",
       "  </tbody>\n",
       "</table>\n",
       "</div>"
      ],
      "text/plain": [
       "               0\n",
       "0.025 -35.984694\n",
       "0.975  -2.944606"
      ]
     },
     "execution_count": 22,
     "metadata": {},
     "output_type": "execute_result"
    }
   ],
   "source": [
    "booted_data_means[\"quants\"]"
   ]
  },
  {
   "cell_type": "markdown",
   "id": "d7294a4c",
   "metadata": {},
   "source": [
    "## Вывод по бутстрапу (np.mean):"
   ]
  },
  {
   "cell_type": "markdown",
   "id": "94971d74",
   "metadata": {},
   "source": [
    "Средние значения в тестовой и контрольной группах различаются на заданном уровне значимости, поскольку в 95-процентный доверительный интервал не попадает нулевое значение разницы между двумя средними.\n",
    "\n",
    "p-value < 0.05 говорит о том, что при условии верности нулевой гипотезы о равенстве средних в двух группах вероятность получить такое или еще большее отклонение разницы* от 0 составляет менее 5%. То есть полученная нами разница оказалась бы достаточно редким явлением, если бы средние двух групп на самом деле были равны. Значит, мы имеем основание отвергнуть нулевую гипотезу в пользу альтернативной.\n",
    "\n",
    "*Полученная нами разница - это средняя разница между средними значениями бутстрап-выборок."
   ]
  },
  {
   "cell_type": "markdown",
   "id": "ca714508",
   "metadata": {},
   "source": [
    "## Сравниваем медианы в тестовой и контрольной группах с помощью бутстрапа"
   ]
  },
  {
   "cell_type": "markdown",
   "id": "a8d5101c",
   "metadata": {},
   "source": [
    "- H0: Медианы в двух группах не различаются\n",
    "- H1: Медианы различаются"
   ]
  },
  {
   "cell_type": "code",
   "execution_count": 24,
   "id": "8ea5631e",
   "metadata": {},
   "outputs": [
    {
     "data": {
      "application/vnd.jupyter.widget-view+json": {
       "model_id": "1cc6ed841a1a4cfdbfc8d83675a7589c",
       "version_major": 2,
       "version_minor": 0
      },
      "text/plain": [
       "  0%|          | 0/1000 [00:00<?, ?it/s]"
      ]
     },
     "metadata": {},
     "output_type": "display_data"
    },
    {
     "data": {
      "image/png": "[encoded data removed]",
      "text/plain": [
       "<Figure size 400x300 with 1 Axes>"
      ]
     },
     "metadata": {},
     "output_type": "display_data"
    }
   ],
   "source": [
    "booted_data_medians = get_bootstrap(\n",
    "                          df_control, \n",
    "                          df_test, \n",
    "                          boot_it = 1000, \n",
    "                          statistic = np.median)\n"
   ]
  },
  {
   "cell_type": "code",
   "execution_count": 25,
   "id": "860489e4",
   "metadata": {},
   "outputs": [
    {
     "data": {
      "text/plain": [
       "0.9479921652920933"
      ]
     },
     "execution_count": 25,
     "metadata": {},
     "output_type": "execute_result"
    }
   ],
   "source": [
    "booted_data_medians[\"p_value\"]"
   ]
  },
  {
   "cell_type": "markdown",
   "id": "d7f056dd",
   "metadata": {},
   "source": [
    "booted_data_medians[\"quants\"]\n"
   ]
  },
  {
   "cell_type": "markdown",
   "id": "f4631e56",
   "metadata": {},
   "source": [
    "## Вывод по бутстрапу (np.median):"
   ]
  },
  {
   "cell_type": "markdown",
   "id": "5b8d7c54",
   "metadata": {},
   "source": [
    "Медианы в тестовой и контрольной группах не различаются на заданном уровне значимости, поскольку в 95-процентный доверительный интервал попадает нулевое значение разницы между медианами двух групп.\n",
    "\n",
    "p-value > 0.05 говорит о том, что при условии верности нулевой гипотезы о равенстве медиан в двух группах вероятность получить такое или еще большее отклонение разницы* от 0 составляет более 5%. То есть полученная нами разница не оказалась бы редким явлением, если бы медианы двух групп на самом деле были равны. Значит, мы не имеем весомых оснований отвергнуть нулевую гипотезу и остаемся в ее рамках.\n",
    "\n",
    "*Полученная нами разница - это средняя разница между медианами бутстрап-выборок."
   ]
  },
  {
   "cell_type": "markdown",
   "id": "e06250a9",
   "metadata": {},
   "source": [
    "## Сравниваем тестовую и контрольную группы с помощью U-критерия Манна-Уитни"
   ]
  },
  {
   "cell_type": "markdown",
   "id": "85375c6c",
   "metadata": {},
   "source": [
    "- H0: Группы не различаются\n",
    "- H1: Группы различаются"
   ]
  },
  {
   "cell_type": "code",
   "execution_count": 27,
   "id": "4b7a106f",
   "metadata": {},
   "outputs": [
    {
     "data": {
      "text/plain": [
       "MannwhitneyuResult(statistic=124189.5, pvalue=0.42960742912427896)"
      ]
     },
     "execution_count": 27,
     "metadata": {},
     "output_type": "execute_result"
    }
   ],
   "source": [
    "mannwhitneyu(df_control, df_test)"
   ]
  },
  {
   "cell_type": "markdown",
   "id": "acc4e739",
   "metadata": {},
   "source": [
    "## Вывод по U-критерию Манна-Уитни:"
   ]
  },
  {
   "cell_type": "markdown",
   "id": "52b63db0",
   "metadata": {},
   "source": [
    "Значение p-value > 0.05 говорит об отсутствии статистически значимых различий между контрольной и тестовой группами (значение U-критерия больше, чем пороговое). Мы не имеем оснований отвергнуть нулевую гипотезу, то есть группы не отличаются."
   ]
  },
  {
   "cell_type": "markdown",
   "id": "547900dd",
   "metadata": {},
   "source": [
    "## Сравнение результатов и общие выводы"
   ]
  },
  {
   "cell_type": "markdown",
   "id": "a20cd8f1",
   "metadata": {},
   "source": [
    "Можно заметить, что контрольная и тестовая группы имеют разные значения только у последних 5 наблюдений:"
   ]
  },
  {
   "cell_type": "code",
   "execution_count": 28,
   "id": "9ac5d25a",
   "metadata": {},
   "outputs": [
    {
     "data": {
      "text/plain": [
       "0         0.000000\n",
       "1         0.000000\n",
       "2         0.000000\n",
       "3         0.000000\n",
       "4         0.000000\n",
       "          ...     \n",
       "495    -989.026071\n",
       "496   -1189.738926\n",
       "497   -1491.219910\n",
       "498   -1988.830922\n",
       "499   -2988.500434\n",
       "Name: value, Length: 500, dtype: float64"
      ]
     },
     "execution_count": 28,
     "metadata": {},
     "output_type": "execute_result"
    }
   ],
   "source": [
    "df_diff = df_control - df_test\n",
    "df_diff"
   ]
  },
  {
   "cell_type": "code",
   "execution_count": 29,
   "id": "858077a0",
   "metadata": {},
   "outputs": [
    {
     "data": {
      "text/plain": [
       "5"
      ]
     },
     "execution_count": 29,
     "metadata": {},
     "output_type": "execute_result"
    }
   ],
   "source": [
    "len(df_diff[df_diff != 0])"
   ]
  },
  {
   "cell_type": "markdown",
   "id": "9fcb6fab",
   "metadata": {},
   "source": [
    "Причем последние 5 наблюдений в тестовой группе - это экстремально высокие значения, которые смещают среднее тестовой группы в большую сторону:"
   ]
  },
  {
   "cell_type": "code",
   "execution_count": 30,
   "id": "39d276ef",
   "metadata": {},
   "outputs": [
    {
     "data": {
      "text/plain": [
       "10.026866533804297"
      ]
     },
     "execution_count": 30,
     "metadata": {},
     "output_type": "execute_result"
    }
   ],
   "source": [
    "df_control.mean()"
   ]
  },
  {
   "cell_type": "code",
   "execution_count": 31,
   "id": "ded93ff3",
   "metadata": {},
   "outputs": [
    {
     "data": {
      "text/plain": [
       "27.321499056661573"
      ]
     },
     "execution_count": 31,
     "metadata": {},
     "output_type": "execute_result"
    }
   ],
   "source": [
    "df_test.mean()"
   ]
  },
  {
   "cell_type": "markdown",
   "id": "ea7841d6",
   "metadata": {},
   "source": [
    "Это объясняет, почему бутстрап для средних значений показал статистически значимое различие (p < 0.05) между средними двух групп.\n",
    "\n",
    "В то же время медианы двух групп практически идентичны, так как медиана гораздо менее чувствительна к выбросам, чем среднее:"
   ]
  },
  {
   "cell_type": "code",
   "execution_count": 32,
   "id": "ba2c4d10",
   "metadata": {},
   "outputs": [
    {
     "data": {
      "text/plain": [
       "10.0184651909296"
      ]
     },
     "execution_count": 32,
     "metadata": {},
     "output_type": "execute_result"
    }
   ],
   "source": [
    "df_control.median()"
   ]
  },
  {
   "cell_type": "code",
   "execution_count": 33,
   "id": "0b02e5c3",
   "metadata": {},
   "outputs": [
    {
     "data": {
      "text/plain": [
       "10.02584684253515"
      ]
     },
     "execution_count": 33,
     "metadata": {},
     "output_type": "execute_result"
    }
   ],
   "source": [
    "df_test.median()"
   ]
  },
  {
   "cell_type": "markdown",
   "id": "41f8670e",
   "metadata": {},
   "source": [
    "Соответственно, бутстрап для медиан показал отсутствие статистически значимого различия (p > 0.05) между медианами двух групп.\n",
    "\n",
    "Непараметрический U-критерий Манна-Уитни также менее чувствителен к выбросам, поскольку использует ранговую шкалу для оценки различий между двумя группами. Данный критерий также показал, что между группами нет статистически значимых различий.\n",
    "\n",
    "В рассмотренном случае стоит доверять бутстрапу для медиан и U-критерию Манна-Уитни, поскольку они менее чувствительны к экстремально большим (или малым) значениям."
   ]
  },
  {
   "cell_type": "code",
   "execution_count": null,
   "id": "bc0567ca",
   "metadata": {},
   "outputs": [],
   "source": []
  }
 ],
 "metadata": {
  "kernelspec": {
   "display_name": "Python 3 (ipykernel)",
   "language": "python",
   "name": "python3"
  },
  "language_info": {
   "codemirror_mode": {
    "name": "ipython",
    "version": 3
   },
   "file_extension": ".py",
   "mimetype": "text/x-python",
   "name": "python",
   "nbconvert_exporter": "python",
   "pygments_lexer": "ipython3",
   "version": "3.8.10"
  }
 },
 "nbformat": 4,
 "nbformat_minor": 5
}
