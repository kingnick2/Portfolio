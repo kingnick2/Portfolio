{
 "cells": [
  {
   "cell_type": "markdown",
   "id": "d82ad677",
   "metadata": {},
   "source": [
    "# Задание 1"
   ]
  },
  {
   "cell_type": "markdown",
   "id": "6e8cc06d",
   "metadata": {},
   "source": [
    "Есть таблица с действиями юзеров A/B-теста вида:\n",
    "- 𝑒𝑣𝑒𝑛𝑡𝑠  - установки приложения\n",
    "- 𝑢𝑠𝑒𝑟_𝑖𝑑  - id юзера,\n",
    "- 𝑎𝑏_𝑔𝑟𝑜𝑢𝑝  - группа A/B-теста,\n",
    "- 𝑡𝑠  - время совершения действия,\n",
    "- 𝑝𝑑𝑎𝑡𝑒  - дата совершения действия.\n",
    "\n",
    "Пользовательская сессия определяется по следующим правилам:\n",
    "\n",
    "- Новая сессия начинается после 30 минут бездействия.\n",
    "- Сессия прерывается при переходе между двумя датами.\n",
    "\n",
    "Необходимо построить таблицу с сессиями юзеров в формате:\n",
    "\n",
    "- 𝑢𝑠𝑒𝑟_𝑖𝑑  - id юзера\n",
    "- 𝑎𝑏_𝑔𝑟𝑜𝑢𝑝  - группа A/B-теста,\n",
    "- 𝑠𝑡𝑎𝑟𝑡_𝑡𝑠  - время старта сессии,\n",
    "- 𝑒𝑛𝑑_𝑡𝑠  - время окончания сессии,\n",
    "- 𝑝𝑑𝑎𝑡𝑒  - дата сессии.\n"
   ]
  },
  {
   "cell_type": "code",
   "execution_count": 13,
   "id": "c437a2c8",
   "metadata": {},
   "outputs": [],
   "source": [
    "# Для начала импортируем необходимые библиотеки\n",
    "import pandas as pd\n",
    "import numpy as np\n",
    "import seaborn as sns\n",
    "import matplotlib.pyplot as plt\n",
    "from scipy.stats import chi2_contingency, norm"
   ]
  },
  {
   "cell_type": "code",
   "execution_count": 2,
   "id": "8a0d4393",
   "metadata": {},
   "outputs": [
    {
     "data": {
      "text/html": [
       "<div>\n",
       "<style scoped>\n",
       "    .dataframe tbody tr th:only-of-type {\n",
       "        vertical-align: middle;\n",
       "    }\n",
       "\n",
       "    .dataframe tbody tr th {\n",
       "        vertical-align: top;\n",
       "    }\n",
       "\n",
       "    .dataframe thead th {\n",
       "        text-align: right;\n",
       "    }\n",
       "</style>\n",
       "<table border=\"1\" class=\"dataframe\">\n",
       "  <thead>\n",
       "    <tr style=\"text-align: right;\">\n",
       "      <th></th>\n",
       "      <th>user_id</th>\n",
       "      <th>ab_group</th>\n",
       "      <th>ts</th>\n",
       "      <th>pdate</th>\n",
       "    </tr>\n",
       "  </thead>\n",
       "  <tbody>\n",
       "    <tr>\n",
       "      <th>0</th>\n",
       "      <td>2OgK/ukRgvkWAOaa8XaTPg==</td>\n",
       "      <td>A</td>\n",
       "      <td>2023-05-02 12:24:33.553327</td>\n",
       "      <td>2023-05-02</td>\n",
       "    </tr>\n",
       "    <tr>\n",
       "      <th>1</th>\n",
       "      <td>2OgK/ukRgvkWAOaa8XaTPg==</td>\n",
       "      <td>A</td>\n",
       "      <td>2023-05-02 12:32:23.215284</td>\n",
       "      <td>2023-05-02</td>\n",
       "    </tr>\n",
       "    <tr>\n",
       "      <th>2</th>\n",
       "      <td>2OgK/ukRgvkWAOaa8XaTPg==</td>\n",
       "      <td>A</td>\n",
       "      <td>2023-05-02 12:33:01.050395</td>\n",
       "      <td>2023-05-02</td>\n",
       "    </tr>\n",
       "  </tbody>\n",
       "</table>\n",
       "</div>"
      ],
      "text/plain": [
       "                    user_id ab_group                          ts       pdate\n",
       "0  2OgK/ukRgvkWAOaa8XaTPg==        A  2023-05-02 12:24:33.553327  2023-05-02\n",
       "1  2OgK/ukRgvkWAOaa8XaTPg==        A  2023-05-02 12:32:23.215284  2023-05-02\n",
       "2  2OgK/ukRgvkWAOaa8XaTPg==        A  2023-05-02 12:33:01.050395  2023-05-02"
      ]
     },
     "execution_count": 2,
     "metadata": {},
     "output_type": "execute_result"
    }
   ],
   "source": [
    "# Считаем файл\n",
    "df = pd.read_csv('task_1_events.csv', sep=\",\")\n",
    "df.head(3)"
   ]
  },
  {
   "cell_type": "code",
   "execution_count": 3,
   "id": "fdaeeb1d",
   "metadata": {},
   "outputs": [
    {
     "data": {
      "text/plain": [
       "user_id     object\n",
       "ab_group    object\n",
       "ts          object\n",
       "pdate       object\n",
       "dtype: object"
      ]
     },
     "execution_count": 3,
     "metadata": {},
     "output_type": "execute_result"
    }
   ],
   "source": [
    "df.dtypes"
   ]
  },
  {
   "cell_type": "markdown",
   "id": "bc69f667",
   "metadata": {},
   "source": [
    "Как мы видим, все данные в формате object, для дальнейшей работы стоит перевести данные с датой в формат datetime"
   ]
  },
  {
   "cell_type": "code",
   "execution_count": 4,
   "id": "d94dbb33",
   "metadata": {},
   "outputs": [],
   "source": [
    "# Преобразуем столбцы 'ts' и 'pdate' в тип данных datetime\n",
    "df['ts'] = pd.to_datetime(df['ts'])\n",
    "df['pdate'] = pd.to_datetime(df['pdate'])"
   ]
  },
  {
   "cell_type": "code",
   "execution_count": 5,
   "id": "275c8e3d",
   "metadata": {},
   "outputs": [
    {
     "data": {
      "text/plain": [
       "user_id             object\n",
       "ab_group            object\n",
       "ts          datetime64[ns]\n",
       "pdate       datetime64[ns]\n",
       "dtype: object"
      ]
     },
     "execution_count": 5,
     "metadata": {},
     "output_type": "execute_result"
    }
   ],
   "source": [
    "df.dtypes"
   ]
  },
  {
   "cell_type": "code",
   "execution_count": 6,
   "id": "4ef35e75",
   "metadata": {},
   "outputs": [
    {
     "data": {
      "text/html": [
       "<div>\n",
       "<style scoped>\n",
       "    .dataframe tbody tr th:only-of-type {\n",
       "        vertical-align: middle;\n",
       "    }\n",
       "\n",
       "    .dataframe tbody tr th {\n",
       "        vertical-align: top;\n",
       "    }\n",
       "\n",
       "    .dataframe thead th {\n",
       "        text-align: right;\n",
       "    }\n",
       "</style>\n",
       "<table border=\"1\" class=\"dataframe\">\n",
       "  <thead>\n",
       "    <tr style=\"text-align: right;\">\n",
       "      <th></th>\n",
       "      <th>user_id</th>\n",
       "      <th>ab_group</th>\n",
       "      <th>start_ts</th>\n",
       "      <th>end_ts</th>\n",
       "      <th>pdate</th>\n",
       "    </tr>\n",
       "  </thead>\n",
       "  <tbody>\n",
       "    <tr>\n",
       "      <th>0</th>\n",
       "      <td>2JM4L+sRXYIWAFSC8XaTPg==</td>\n",
       "      <td>B</td>\n",
       "      <td>2023-05-01 08:17:45.766570</td>\n",
       "      <td>2023-05-01 08:57:37.363424</td>\n",
       "      <td>2023-05-01</td>\n",
       "    </tr>\n",
       "    <tr>\n",
       "      <th>1</th>\n",
       "      <td>2OgK/ukRgvkWAOaa8XaTPg==</td>\n",
       "      <td>A</td>\n",
       "      <td>2023-05-02 12:24:33.553327</td>\n",
       "      <td>2023-05-02 12:37:57.761142</td>\n",
       "      <td>2023-05-02</td>\n",
       "    </tr>\n",
       "    <tr>\n",
       "      <th>2</th>\n",
       "      <td>3E69ZO0RJrEWACi28XaTPg==</td>\n",
       "      <td>A</td>\n",
       "      <td>2023-05-01 18:58:45.338597</td>\n",
       "      <td>2023-05-01 19:04:19.203838</td>\n",
       "      <td>2023-05-01</td>\n",
       "    </tr>\n",
       "    <tr>\n",
       "      <th>3</th>\n",
       "      <td>3E69ZO0RJrEWACi28XaTPg==</td>\n",
       "      <td>A</td>\n",
       "      <td>2023-05-04 10:01:39.700496</td>\n",
       "      <td>2023-05-04 10:07:39.858666</td>\n",
       "      <td>2023-05-04</td>\n",
       "    </tr>\n",
       "    <tr>\n",
       "      <th>4</th>\n",
       "      <td>3GsYmewRRswWABqG8XaTPg==</td>\n",
       "      <td>B</td>\n",
       "      <td>2023-05-03 05:00:41.797222</td>\n",
       "      <td>2023-05-03 05:18:12.137282</td>\n",
       "      <td>2023-05-03</td>\n",
       "    </tr>\n",
       "  </tbody>\n",
       "</table>\n",
       "</div>"
      ],
      "text/plain": [
       "                    user_id ab_group                   start_ts  \\\n",
       "0  2JM4L+sRXYIWAFSC8XaTPg==        B 2023-05-01 08:17:45.766570   \n",
       "1  2OgK/ukRgvkWAOaa8XaTPg==        A 2023-05-02 12:24:33.553327   \n",
       "2  3E69ZO0RJrEWACi28XaTPg==        A 2023-05-01 18:58:45.338597   \n",
       "3  3E69ZO0RJrEWACi28XaTPg==        A 2023-05-04 10:01:39.700496   \n",
       "4  3GsYmewRRswWABqG8XaTPg==        B 2023-05-03 05:00:41.797222   \n",
       "\n",
       "                      end_ts      pdate  \n",
       "0 2023-05-01 08:57:37.363424 2023-05-01  \n",
       "1 2023-05-02 12:37:57.761142 2023-05-02  \n",
       "2 2023-05-01 19:04:19.203838 2023-05-01  \n",
       "3 2023-05-04 10:07:39.858666 2023-05-04  \n",
       "4 2023-05-03 05:18:12.137282 2023-05-03  "
      ]
     },
     "execution_count": 6,
     "metadata": {},
     "output_type": "execute_result"
    }
   ],
   "source": [
    "# Отсортируем данные по 'user_id' и 'ts'\n",
    "df.sort_values(['user_id', 'ts'], inplace=True)\n",
    "\n",
    "# Создадим столбец 'время_бездействия', который показывает разницу в минутах между текущим и предыдущим временем 'тс' для каждого пользователя\n",
    "df['no_action_time'] = df.groupby('user_id')['ts'].diff().dt.total_seconds() / 60\n",
    "\n",
    "# Создадим столбец 'новая_сессия', который указывает, является ли текущее действие началом новой сессии (30 минут бездействия и прерывание при смене дат)\n",
    "df['new_session'] = (df['no_action_time'].fillna(0) > 30) | (df['pdate'].diff().dt.days > 0)\n",
    "\n",
    "# Создадим столбец 'сессия', который будет увеличиваться на 1 с каждой новой сессией для каждого пользователя\n",
    "df['session'] = df.groupby('user_id')['new_session'].cumsum()\n",
    "\n",
    "# Группируем данные по 'user_id', 'session' и 'pdate', и агрегируйте значения минимального и максимального времени 'ts'\n",
    "sessions_df = df.groupby(['user_id', 'session', 'pdate', 'ab_group']).agg({'ts': ['min', 'max']})\n",
    "\n",
    "# Переименуем столбцы\n",
    "sessions_df.columns = ['start_ts', 'end_ts']\n",
    "\n",
    "# Сбросим индексы, чтобы было красиво\n",
    "sessions_df.reset_index(inplace=True)\n",
    "\n",
    "# Удалим столбцы, которые больше не нужны\n",
    "sessions_df.drop(['session'], axis=1, inplace=True)\n",
    "\n",
    "# Перенесем столбец 'pdate' в конец таблицы,  чтобы соответствовало тз\n",
    "sessions_df = sessions_df[['user_id', 'ab_group', 'start_ts', 'end_ts', 'pdate']]\n",
    "\n",
    "# Отсортируем по user_id, чтобы увидеть все сессии у пользователя\n",
    "sessions_df.sort_values('user_id', inplace=True)\n",
    "\n",
    "# Выведем таблицу сессий пользователей в соответствии с тз\n",
    "sessions_df.head(5)\n"
   ]
  },
  {
   "cell_type": "markdown",
   "id": "7be423d7",
   "metadata": {},
   "source": [
    "# Задание 2"
   ]
  },
  {
   "cell_type": "markdown",
   "id": "4a11913b",
   "metadata": {},
   "source": [
    "### Текст задания"
   ]
  },
  {
   "cell_type": "markdown",
   "id": "a404930e",
   "metadata": {},
   "source": [
    "Был проведен A/B-тест.\n",
    "В качестве данных используйте таблицу, построенную в предыдущем задании. Первая сессия юзера считается моментом попадания в A/B-тест.\n",
    "\n",
    "Ключевая метрика эксперимента - конверсия во вторую сессию.\n",
    "Сделайте вывод о том, какая группа выиграла в A/B-тесте. Ответ обоснуйте."
   ]
  },
  {
   "cell_type": "markdown",
   "id": "7f0c1a9b",
   "metadata": {},
   "source": [
    "### Решение"
   ]
  },
  {
   "cell_type": "markdown",
   "id": "130d2304",
   "metadata": {},
   "source": [
    "Проверим данные"
   ]
  },
  {
   "cell_type": "code",
   "execution_count": 7,
   "id": "a3aa0cc4",
   "metadata": {},
   "outputs": [
    {
     "data": {
      "text/plain": [
       "1    5000\n",
       "Name: ab_group, dtype: int64"
      ]
     },
     "execution_count": 7,
     "metadata": {},
     "output_type": "execute_result"
    }
   ],
   "source": [
    "#Проверим, есть ли пользователи, которые попали в обе тестовых группы\n",
    "double_variant_count = sessions_df.groupby('user_id')['ab_group'].nunique().value_counts()\n",
    "double_variant_count"
   ]
  },
  {
   "cell_type": "markdown",
   "id": "57a5d983",
   "metadata": {},
   "source": [
    "Пользователей, которые бы попали в обе группы - нет, продолжаем без изменений"
   ]
  },
  {
   "cell_type": "markdown",
   "id": "bfb2ffb0",
   "metadata": {},
   "source": [
    "Для начала посчитаем конверсию во вторую сессию для каждой из групп теста"
   ]
  },
  {
   "cell_type": "code",
   "execution_count": 8,
   "id": "5bd00610",
   "metadata": {},
   "outputs": [
    {
     "name": "stdout",
     "output_type": "stream",
     "text": [
      "ab_group\n",
      "A    0.1272\n",
      "B    0.1412\n",
      "Name: start_ts, dtype: float64\n"
     ]
    }
   ],
   "source": [
    "# Определим первую и вторую сессии каждого пользователя в A/B-тесте\n",
    "first_sessions = sessions_df.groupby(['user_id', 'ab_group'])['start_ts'].min()\n",
    "second_sessions = sessions_df.groupby(['user_id', 'ab_group'])['start_ts'].nth(1)\n",
    "\n",
    "# Подсчитаем количество пользователей для каждой группы A/B-теста\n",
    "users_count = first_sessions.groupby('ab_group').count()\n",
    "\n",
    "# Подсчитаем количество пользователей с второй сессией для каждой группы A/B-теста\n",
    "users_with_second_session = second_sessions.groupby('ab_group').count()\n",
    "\n",
    "# Рассчитаем конверсию во вторую сессию для каждой группы A/B-теста\n",
    "conversion = users_with_second_session / users_count\n",
    "\n",
    "# Выведем результаты\n",
    "print(conversion)"
   ]
  },
  {
   "cell_type": "markdown",
   "id": "09a48e16",
   "metadata": {},
   "source": [
    "Мы видим, что вариант B лидирует, но этого недостаточно, чтобы сделать выводы. Посчитаем с помощью статистичесиких методов статистическую значимость:"
   ]
  },
  {
   "cell_type": "markdown",
   "id": "a59946e9",
   "metadata": {},
   "source": [
    "Используем хи-квадрат\n",
    "\n",
    "Тест хи-квадрат подходит для анализа категориальных данных и позволяет определить, есть ли статистически значимая связь между двумя или более переменными. В нашем случае мы используем его для сравнения пропорций (конверсий) в двух группах и определения, есть ли статистически значимая разница между ними.\n",
    "\n",
    "Выбор теста зависит от типа данных и цели исследования. В данном случае, когда мы имеем дело с категориальными данными и интересует разница между пропорциями, тест хи-квадрат является одним из подходящих вариантов для статистического анализа."
   ]
  },
  {
   "cell_type": "code",
   "execution_count": 9,
   "id": "003d3ea0",
   "metadata": {},
   "outputs": [
    {
     "name": "stdout",
     "output_type": "stream",
     "text": [
      "p-value: 0.20453631043808843\n",
      "Доверительный интервал для варианта A: 0.114 0.14\n",
      "Доверительный интервал для варианта B: 0.128 0.155\n",
      "Разница между вариантами не является статистически значимой.\n"
     ]
    }
   ],
   "source": [
    "# Загрузим полученные данные в переменные\n",
    "observed = np.array([[users_with_second_session['A'], users_count['A']],\n",
    "                     [users_with_second_session['B'], users_count['B']]])\n",
    "\n",
    "# Проведем тест по хи-квадрат\n",
    "chi2, p, d, ex = chi2_contingency((observed), correction=False)\n",
    "\n",
    "# Рассчитаем доли успеха (конверсии) в каждом варианте\n",
    "conversion_rate_A = users_with_second_session['A'] / users_count['A']\n",
    "conversion_rate_B = users_with_second_session['B'] / users_count['B']\n",
    "\n",
    "# Рассчитаем доверительные интервалы для каждого варианта\n",
    "se_A = np.sqrt(conversion_rate_A * (1 - conversion_rate_A) / users_count['A'])\n",
    "se_B = np.sqrt(conversion_rate_B * (1 - conversion_rate_B) / users_count['B'])\n",
    "ci_low_A = conversion_rate_A - 1.96 * se_A\n",
    "ci_high_A = conversion_rate_A + 1.96 * se_A\n",
    "ci_low_B = conversion_rate_B - 1.96 * se_B\n",
    "ci_high_B = conversion_rate_B + 1.96 * se_B\n",
    "\n",
    "# Выведем результаты\n",
    "print(\"p-value:\", p)\n",
    "print(\"Доверительный интервал для варианта A:\", np.round(ci_low_A, 3), np.round(ci_high_A, 3))\n",
    "print(\"Доверительный интервал для варианта B:\", np.round(ci_low_B, 3), np.round(ci_high_B, 3))\n",
    "\n",
    "# Проверим, есть ли изменения\n",
    "if p < 0.05 and ci_low_B > ci_high_A:\n",
    "    print(\"Вариант B лучше.\")\n",
    "else:\n",
    "    print(\"Разница между вариантами не является статистически значимой.\")\n"
   ]
  },
  {
   "cell_type": "markdown",
   "id": "7018e8b7",
   "metadata": {},
   "source": [
    "На основании результатов, которые мы получили, можно сделать следующие выводы:\n",
    "\n",
    "- Значение p-value равно 0.2045, что выше уровня значимости 0.05. Это означает, что нет статистически значимой разницы в конверсии между вариантами A и B.\n",
    "\n",
    "- Доверительные интервалы для обоих вариантов пересекаются. Это также указывает на отсутствие статистически значимой разницы в конверсии между вариантами."
   ]
  },
  {
   "cell_type": "markdown",
   "id": "d2b8f454",
   "metadata": {},
   "source": [
    "Проверим верность решения на другом статистическом методе. Посмотрим, является ли различие статзначимым при расчете z-test"
   ]
  },
  {
   "cell_type": "code",
   "execution_count": 14,
   "id": "d3ec1618",
   "metadata": {},
   "outputs": [
    {
     "name": "stdout",
     "output_type": "stream",
     "text": [
      "Разница между вариантами не является статистически значимой.\n",
      "Z-статистика: 1.4524111977190173\n",
      "p-value: 0.07319365229452202\n"
     ]
    }
   ],
   "source": [
    "# Загрузим полученные данные в переменные\n",
    "conversion_A = conversion['A']\n",
    "conversion_B = conversion['B']\n",
    "users_count_A = users_count['A']\n",
    "users_count_B = users_count['B']\n",
    "\n",
    "# Рассчитаем стандартное отклонение для каждого варианта\n",
    "std_A = np.sqrt(conversion_A * (1 - conversion_A) / users_count_A)\n",
    "std_B = np.sqrt(conversion_B * (1 - conversion_B) / users_count_B)\n",
    "\n",
    "# Рассчитаем Z-статистику\n",
    "z_score = (conversion_B - conversion_A) / np.sqrt(std_A**2 + std_B**2)\n",
    "\n",
    "# Рассчитаем p-value\n",
    "p_value = 1 - stats.norm.cdf(z_score)\n",
    "\n",
    "# Определим доверительный уровень значимости\n",
    "alpha = 0.05\n",
    "\n",
    "# Проверим статистическую значимость\n",
    "if p_value < alpha:\n",
    "    print(\"Разница между вариантами статистически значима.\")\n",
    "else:\n",
    "    print(\"Разница между вариантами не является статистически значимой.\")\n",
    "\n",
    "# Выведем значения Z-статистики и p-value\n",
    "print(\"Z-статистика:\", z_score)\n",
    "print(\"p-value:\", p_value)"
   ]
  },
  {
   "cell_type": "markdown",
   "id": "9dc5c800",
   "metadata": {},
   "source": [
    "На основании результатов теста Z-теста, мы получаем следующие результаты:\n",
    "\n",
    "- Разница между вариантами A и B не является статистически значимой, так как p-value (0.073) превышает выбранный уровень значимости alpha (в нашем случае = 0.05).\n",
    "\n",
    "- Значение Z-статистики (1.452) показывает направление разницы между вариантами A и B, где положительное значение указывает на то, что конверсия во вторую сессию варианта B может быть выше, но это значение не достаточно сильное, чтобы считать разницу статистически значимой.\n",
    "\n",
    "Таким образом, на основе проведенного Z-теста мы также не можем сделать вывод о статистически значимой разнице между конверсией во вторую сессию вариантов A и B"
   ]
  },
  {
   "cell_type": "markdown",
   "id": "c5d50ad3",
   "metadata": {},
   "source": [
    "Итоговые выводы и рекомендации:\n",
    "\n",
    "- Основываясь на имеющихся данных, нет оснований для того, чтобы считать, что вариант A или вариант B лучше с точки зрения конверсии во вторую сессию.\n",
    "\n",
    "- Рекомендуется провести дальнейшие исследования или собрать больше данных, чтобы получить более точные и надежные результаты. Возможно, изменение факторов или продолжение тестирования может привести к обнаружению значимых различий.\n",
    "\n",
    "- Важно также учитывать другие факторы, такие как пользовательский опыт, пользовательские отзывы или бизнес-цели при принятии решения о выборе варианта A или B.\n",
    "\n",
    "- Не до конца понятно условие \"сессия прерывается при переходе между двумя датами\". Если сессия принудительно прерывается у всех пользователей в эту секунду, и появляется экран \"сессия прервана\", то возможно стоит провести новый расчет, и исключить всех пользователей, которые попали на этот перелом дат, потому что такая вторая сессия не в полной мере является полноцецнной и может смазать результаты эксперимента."
   ]
  },
  {
   "cell_type": "code",
   "execution_count": null,
   "id": "4d4637ae",
   "metadata": {},
   "outputs": [],
   "source": []
  }
 ],
 "metadata": {
  "kernelspec": {
   "display_name": "Python 3 (ipykernel)",
   "language": "python",
   "name": "python3"
  },
  "language_info": {
   "codemirror_mode": {
    "name": "ipython",
    "version": 3
   },
   "file_extension": ".py",
   "mimetype": "text/x-python",
   "name": "python",
   "nbconvert_exporter": "python",
   "pygments_lexer": "ipython3",
   "version": "3.8.10"
  }
 },
 "nbformat": 4,
 "nbformat_minor": 5
}
